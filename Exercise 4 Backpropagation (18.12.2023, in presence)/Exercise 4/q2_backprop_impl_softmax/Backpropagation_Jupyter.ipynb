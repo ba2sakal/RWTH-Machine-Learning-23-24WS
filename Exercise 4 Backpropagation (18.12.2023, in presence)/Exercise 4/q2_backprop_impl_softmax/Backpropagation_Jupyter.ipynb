{
 "cells": [
  {
   "cell_type": "markdown",
   "id": "52b872dd",
   "metadata": {},
   "source": [
    "## Question 1 - Sofmax Function"
   ]
  },
  {
   "cell_type": "code",
   "execution_count": null,
   "id": "06bd3a5a",
   "metadata": {},
   "outputs": [],
   "source": [
    "import numpy as np"
   ]
  },
  {
   "cell_type": "code",
   "execution_count": null,
   "id": "20b2f891",
   "metadata": {},
   "outputs": [],
   "source": [
    "def softmax(x):\n",
    "    # Compute the exponentials of each input element\n",
    "    exp_x = np.exp(x - np.max(x))  # Subtracting np.max(x) for numerical stability\n",
    "    # Normalize the exponentials so that their sum equals 1\n",
    "    return exp_x / np.sum(exp_x)"
   ]
  },
  {
   "cell_type": "code",
   "execution_count": null,
   "id": "431eebd4",
   "metadata": {},
   "outputs": [],
   "source": [
    "def softmax_jacobian(x):\n",
    "    # Compute softmax values for each element in vector x\n",
    "    S = softmax(x)\n",
    "    # Initialize the Jacobian matrix with zeros\n",
    "    jacobian = np.zeros((len(x), len(x)))\n",
    "    \n",
    "    # Fill in the Jacobian matrix\n",
    "    for i in range(len(x)):\n",
    "        for j in range(len(x)):\n",
    "            if i == j:\n",
    "                # Diagonal entries\n",
    "                jacobian[i, j] = S[i] * (1 - S[i])\n",
    "            else:\n",
    "                # Off-diagonal entries\n",
    "                jacobian[i, j] = -S[i] * S[j]\n",
    "    return jacobian\n"
   ]
  },
  {
   "cell_type": "code",
   "execution_count": null,
   "id": "76b18bae",
   "metadata": {},
   "outputs": [],
   "source": [
    "def softmax_jacobian_fast(x):\n",
    "    # Compute softmax values for each element in vector x\n",
    "    S = softmax(x)\n",
    "    # Compute the outer product of S with itself\n",
    "    outer_product = np.outer(S, S)\n",
    "    # Fill in the Jacobian matrix\n",
    "    jacobian = np.diag(S) - outer_product\n",
    "    return jacobian"
   ]
  },
  {
   "cell_type": "code",
   "execution_count": null,
   "id": "09dca840-3bfe-4592-8f5c-aa9a4d23a191",
   "metadata": {},
   "outputs": [],
   "source": [
    "def test_softmax_jacobian():\n",
    "    x = np.array([1, 2, 3])\n",
    "    jacobian = softmax_jacobian(x)\n",
    "    jacobian_fast = softmax_jacobian_fast(x)\n",
    "    assert np.allclose(jacobian, jacobian_fast) "
   ]
  },
  {
   "cell_type": "code",
   "execution_count": null,
   "id": "bf938819",
   "metadata": {},
   "outputs": [],
   "source": [
    "def efficient_bprop(v,x):\n",
    "    #compute the softmax of x\n",
    "    sigma_x = softmax(x)\n",
    "\n",
    "    # Compute the dot produt of v and sigma_x^T\n",
    "    v_dot_sigmaT = np.dot(v, sigma_x)\n",
    "\n",
    "    # Compute z using the efficient formula\n",
    "    z = sigma_x * (v - v_dot_sigmaT)\n",
    "\n",
    "    return z"
   ]
  },
  {
   "cell_type": "code",
   "execution_count": null,
   "id": "73cecb3a",
   "metadata": {},
   "outputs": [],
   "source": [
    "def compute_gradient_cross_entropy_loss(z,t):\n",
    "    # Compute the gradient of the cross-entropy loss with respect to z\n",
    "    grad = z - t\n",
    "    return grad"
   ]
  },
  {
   "cell_type": "markdown",
   "id": "8f3c06e0",
   "metadata": {},
   "source": [
    "## Question 2 - Softmax-regression with backpropagation"
   ]
  },
  {
   "cell_type": "code",
   "execution_count": 3,
   "id": "4477f13b-e48a-4150-926a-395efad8a100",
   "metadata": {},
   "outputs": [
    {
     "ename": "ModuleNotFoundError",
     "evalue": "No module named 'read_input'",
     "output_type": "error",
     "traceback": [
      "\u001b[0;31m---------------------------------------------------------------------------\u001b[0m",
      "\u001b[0;31mModuleNotFoundError\u001b[0m                       Traceback (most recent call last)",
      "\u001b[0;32m/tmp/ipykernel_3107/2999958294.py\u001b[0m in \u001b[0;36m<module>\u001b[0;34m\u001b[0m\n\u001b[1;32m      1\u001b[0m \u001b[0;32mimport\u001b[0m \u001b[0margparse\u001b[0m\u001b[0;34m\u001b[0m\u001b[0;34m\u001b[0m\u001b[0m\n\u001b[0;32m----> 2\u001b[0;31m \u001b[0;32mfrom\u001b[0m \u001b[0mread_input\u001b[0m \u001b[0;32mimport\u001b[0m \u001b[0;34m*\u001b[0m\u001b[0;34m\u001b[0m\u001b[0;34m\u001b[0m\u001b[0m\n\u001b[0m\u001b[1;32m      3\u001b[0m \u001b[0;32mimport\u001b[0m \u001b[0mnn_modules\u001b[0m\u001b[0;34m\u001b[0m\u001b[0;34m\u001b[0m\u001b[0m\n\u001b[1;32m      4\u001b[0m \u001b[0;32mimport\u001b[0m \u001b[0mmodel\u001b[0m\u001b[0;34m\u001b[0m\u001b[0;34m\u001b[0m\u001b[0m\n\u001b[1;32m      5\u001b[0m \u001b[0;32mimport\u001b[0m \u001b[0mtrain\u001b[0m\u001b[0;34m\u001b[0m\u001b[0;34m\u001b[0m\u001b[0m\n",
      "\u001b[0;31mModuleNotFoundError\u001b[0m: No module named 'read_input'"
     ]
    }
   ],
   "source": [
    "import argparse\n",
    "from read_input import *\n",
    "import nn_modules\n",
    "import model\n",
    "import train\n",
    "import logging\n",
    "import pickle\n",
    "import test"
   ]
  },
  {
   "cell_type": "code",
   "execution_count": null,
   "id": "c2ab2d5e-aa32-48e7-b358-f80d6795c1ef",
   "metadata": {},
   "outputs": [],
   "source": []
  }
 ],
 "metadata": {
  "kernelspec": {
   "display_name": "Python 3 (ipykernel)",
   "language": "python",
   "name": "python3"
  },
  "language_info": {
   "codemirror_mode": {
    "name": "ipython",
    "version": 3
   },
   "file_extension": ".py",
   "mimetype": "text/x-python",
   "name": "python",
   "nbconvert_exporter": "python",
   "pygments_lexer": "ipython3",
   "version": "3.9.6"
  }
 },
 "nbformat": 4,
 "nbformat_minor": 5
}
